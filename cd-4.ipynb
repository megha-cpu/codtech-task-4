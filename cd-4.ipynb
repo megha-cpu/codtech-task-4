{
 "cells": [
  {
   "cell_type": "code",
   "execution_count": 5,
   "id": "a60ffdf1",
   "metadata": {},
   "outputs": [],
   "source": [
    "from surprise import Dataset, SVD, Reader\n",
    "from surprise.model_selection import train_test_split\n",
    "from surprise import accuracy\n",
    "import pandas as pd"
   ]
  },
  {
   "cell_type": "code",
   "execution_count": 6,
   "id": "51963cb1",
   "metadata": {},
   "outputs": [],
   "source": [
    "from surprise import Dataset\n",
    "import urllib.request\n",
    "\n",
    "# Force download of the dataset directly\n",
    "try:\n",
    "    data = Dataset.load_builtin('ml-100k')\n",
    "except:\n",
    "    # Retry with direct download if needed\n",
    "    url = \"http://files.grouplens.org/datasets/movielens/ml-100k.zip\"\n",
    "    urllib.request.urlretrieve(url, \".surprise_data/ml-100k.zip\")\n",
    "    print(\"Download completed. Please rerun your code.\")\n"
   ]
  },
  {
   "cell_type": "code",
   "execution_count": 7,
   "id": "f715d93c",
   "metadata": {},
   "outputs": [],
   "source": [
    "from surprise import Dataset, SVD, accuracy\n",
    "from surprise.model_selection import train_test_split\n",
    "\n",
    "# Load built-in MovieLens 100k dataset\n",
    "data = Dataset.load_builtin('ml-100k')\n",
    "\n",
    "# Split into training and test sets\n",
    "trainset, testset = train_test_split(data, test_size=0.2, random_state=42)\n"
   ]
  },
  {
   "cell_type": "code",
   "execution_count": 8,
   "id": "85d4a83d",
   "metadata": {},
   "outputs": [
    {
     "data": {
      "text/plain": [
       "<surprise.prediction_algorithms.matrix_factorization.SVD at 0x190f631df60>"
      ]
     },
     "execution_count": 8,
     "metadata": {},
     "output_type": "execute_result"
    }
   ],
   "source": [
    "# Use SVD (Singular Value Decomposition)\n",
    "model = SVD()\n",
    "model.fit(trainset)\n"
   ]
  },
  {
   "cell_type": "code",
   "execution_count": 9,
   "id": "01332322",
   "metadata": {},
   "outputs": [],
   "source": [
    "# Predict on test set\n",
    "predictions = model.test(testset)\n",
    "\n",
    "\n"
   ]
  },
  {
   "cell_type": "code",
   "execution_count": 10,
   "id": "8d6556e5",
   "metadata": {},
   "outputs": [
    {
     "name": "stdout",
     "output_type": "stream",
     "text": [
      "\n",
      "--- Evaluation Metrics ---\n",
      "RMSE: 0.9368\n",
      "MAE:  0.7385\n"
     ]
    }
   ],
   "source": [
    "# Evaluate the model\n",
    "print(\"\\n--- Evaluation Metrics ---\")\n",
    "rmse = accuracy.rmse(predictions)\n",
    "mae = accuracy.mae(predictions)"
   ]
  },
  {
   "cell_type": "code",
   "execution_count": 11,
   "id": "c94f063d",
   "metadata": {},
   "outputs": [],
   "source": [
    "def get_top_n_recommendations(predictions, n=5):\n",
    "    from collections import defaultdict\n",
    "    top_n = defaultdict(list)\n",
    "\n",
    "    # Map the predictions to each user.\n",
    "    for uid, iid, true_r, est, _ in predictions:\n",
    "        top_n[uid].append((iid, est))\n",
    "\n",
    "    # Sort the predictions for each user and retrieve the top n\n",
    "    for uid, user_ratings in top_n.items():\n",
    "        user_ratings.sort(key=lambda x: x[1], reverse=True)\n",
    "        top_n[uid] = user_ratings[:n]\n",
    "\n",
    "    return top_n"
   ]
  },
  {
   "cell_type": "code",
   "execution_count": 12,
   "id": "d24a1115",
   "metadata": {},
   "outputs": [],
   "source": [
    "top_n_recommendations = get_top_n_recommendations(predictions, n=5)"
   ]
  },
  {
   "cell_type": "code",
   "execution_count": 13,
   "id": "faaa455c",
   "metadata": {},
   "outputs": [
    {
     "name": "stdout",
     "output_type": "stream",
     "text": [
      "\n",
      "Top 5 Recommendations for User 196:\n",
      "Movie ID: 173, Predicted Rating: 4.30\n",
      "Movie ID: 306, Predicted Rating: 4.17\n",
      "Movie ID: 153, Predicted Rating: 3.75\n",
      "Movie ID: 116, Predicted Rating: 3.65\n",
      "Movie ID: 762, Predicted Rating: 3.51\n"
     ]
    }
   ],
   "source": [
    "user_id = '196'\n",
    "print(f\"\\nTop 5 Recommendations for User {user_id}:\")\n",
    "for movie_id, estimated_rating in top_n_recommendations[user_id]:\n",
    "    print(f\"Movie ID: {movie_id}, Predicted Rating: {estimated_rating:.2f}\")"
   ]
  }
 ],
 "metadata": {
  "kernelspec": {
   "display_name": "Python 3",
   "language": "python",
   "name": "python3"
  },
  "language_info": {
   "codemirror_mode": {
    "name": "ipython",
    "version": 3
   },
   "file_extension": ".py",
   "mimetype": "text/x-python",
   "name": "python",
   "nbconvert_exporter": "python",
   "pygments_lexer": "ipython3",
   "version": "3.10.11"
  }
 },
 "nbformat": 4,
 "nbformat_minor": 5
}
